{
 "cells": [
  {
   "cell_type": "markdown",
   "metadata": {
    "id": "yi4VyYhk5nQW"
   },
   "source": [
    "# Mini-Project 2\n",
    "**Author**: Farkhad Kuanyshkereyev<br>\n",
    "**Course**: Data Science<br>\n",
    "**Professor**: Sepinoud Azimi Rashti"
   ]
  },
  {
   "cell_type": "markdown",
   "metadata": {
    "id": "ckCFRhSV5yjP"
   },
   "source": [
    "## **Step 1 - Data Processing**"
   ]
  },
  {
   "cell_type": "code",
   "execution_count": 1,
   "metadata": {
    "id": "OATq_47d6F_P"
   },
   "outputs": [],
   "source": [
    "# Importing necessary libraries\n",
    "\n",
    "from google.colab import files\n",
    "from sklearn.ensemble import RandomForestClassifier\n",
    "from sklearn.linear_model import LogisticRegression\n",
    "from sklearn.metrics import accuracy_score, confusion_matrix\n",
    "from sklearn.model_selection import cross_val_score, train_test_split\n",
    "from sklearn.preprocessing import StandardScaler\n",
    "\n",
    "import io\n",
    "import matplotlib.pyplot as plt\n",
    "import numpy as np\n",
    "import pandas as pd\n",
    "import seaborn as sns\n",
    "\n",
    "seed = 777"
   ]
  },
  {
   "cell_type": "code",
   "execution_count": 2,
   "metadata": {
    "colab": {
     "base_uri": "https://localhost:8080/",
     "height": 72,
     "resources": {
      "http://localhost:8080/nbextensions/google.colab/files.js": {
       "data": "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",
       "headers": [
        [
         "content-type",
         "application/javascript"
        ]
       ],
       "ok": true,
       "status": 200,
       "status_text": ""
      }
     }
    },
    "id": "vXjjsjed6OQv",
    "outputId": "94a8d933-dd7b-4fba-f449-df5f34fbbde1"
   },
   "outputs": [
    {
     "data": {
      "text/html": [
       "\n",
       "     <input type=\"file\" id=\"files-0e270d7d-681e-4490-9293-bac4f8767fb8\" name=\"files[]\" multiple disabled\n",
       "        style=\"border:none\" />\n",
       "     <output id=\"result-0e270d7d-681e-4490-9293-bac4f8767fb8\">\n",
       "      Upload widget is only available when the cell has been executed in the\n",
       "      current browser session. Please rerun this cell to enable.\n",
       "      </output>\n",
       "      <script src=\"/nbextensions/google.colab/files.js\"></script> "
      ],
      "text/plain": [
       "<IPython.core.display.HTML object>"
      ]
     },
     "metadata": {},
     "output_type": "display_data"
    },
    {
     "name": "stdout",
     "output_type": "stream",
     "text": [
      "Saving MP2_Data.csv to MP2_Data (2).csv\n"
     ]
    }
   ],
   "source": [
    "# Uploading the data file\n",
    "\n",
    "# NOTE: The name of the data file is written into the following variable\n",
    "\n",
    "file_name = 'MP2_Data.csv'\n",
    "uploaded = files.upload()\n",
    "df = pd.read_csv(io.BytesIO(uploaded[file_name]))"
   ]
  },
  {
   "cell_type": "code",
   "execution_count": 3,
   "metadata": {
    "colab": {
     "base_uri": "https://localhost:8080/",
     "height": 394
    },
    "id": "RwQCTq4M6tCG",
    "outputId": "515193ee-dbbb-4e64-b9d7-6a9e3c74a112"
   },
   "outputs": [
    {
     "data": {
      "text/html": [
       "<div>\n",
       "<style scoped>\n",
       "    .dataframe tbody tr th:only-of-type {\n",
       "        vertical-align: middle;\n",
       "    }\n",
       "\n",
       "    .dataframe tbody tr th {\n",
       "        vertical-align: top;\n",
       "    }\n",
       "\n",
       "    .dataframe thead th {\n",
       "        text-align: right;\n",
       "    }\n",
       "</style>\n",
       "<table border=\"1\" class=\"dataframe\">\n",
       "  <thead>\n",
       "    <tr style=\"text-align: right;\">\n",
       "      <th></th>\n",
       "      <th>ID</th>\n",
       "      <th>Week2_Quiz1</th>\n",
       "      <th>Week3_MP1</th>\n",
       "      <th>Week3_PR1</th>\n",
       "      <th>Week5_MP2</th>\n",
       "      <th>Week5_PR2</th>\n",
       "      <th>Week7_MP3</th>\n",
       "      <th>Week7_PR3</th>\n",
       "      <th>Week4_Quiz2</th>\n",
       "      <th>Week6_Quiz3</th>\n",
       "      <th>Week8_Total</th>\n",
       "      <th>Week1_Stat0</th>\n",
       "      <th>Week1_Stat1</th>\n",
       "      <th>Week1_Stat2</th>\n",
       "      <th>Week1_Stat3</th>\n",
       "      <th>Week2_Stat0</th>\n",
       "      <th>Week2_Stat1</th>\n",
       "      <th>Week2_Stat2</th>\n",
       "      <th>Week2_Stat3</th>\n",
       "      <th>Week3_Stat0</th>\n",
       "      <th>Week3_Stat1</th>\n",
       "      <th>Week3_Stat2</th>\n",
       "      <th>Week3_Stat3</th>\n",
       "      <th>Week4_Stat0</th>\n",
       "      <th>Week4_Stat1</th>\n",
       "      <th>Week4_Stat2</th>\n",
       "      <th>Week4_Stat3</th>\n",
       "      <th>Week5_Stat0</th>\n",
       "      <th>Week5_Stat1</th>\n",
       "      <th>Week5_Stat2</th>\n",
       "      <th>Week5_Stat3</th>\n",
       "      <th>Week6_Stat0</th>\n",
       "      <th>Week6_Stat1</th>\n",
       "      <th>Week6_Stat2</th>\n",
       "      <th>Week6_Stat3</th>\n",
       "      <th>Week7_Stat0</th>\n",
       "      <th>Week7_Stat1</th>\n",
       "      <th>Week7_Stat2</th>\n",
       "      <th>Week7_Stat3</th>\n",
       "      <th>Week8_Stat0</th>\n",
       "      <th>Week8_Stat1</th>\n",
       "      <th>Week8_Stat2</th>\n",
       "      <th>Week8_Stat3</th>\n",
       "      <th>Week9_Stat0</th>\n",
       "      <th>Week9_Stat1</th>\n",
       "      <th>Week9_Stat2</th>\n",
       "      <th>Week9_Stat3</th>\n",
       "      <th>Grade</th>\n",
       "    </tr>\n",
       "  </thead>\n",
       "  <tbody>\n",
       "    <tr>\n",
       "      <th>0</th>\n",
       "      <td>ML-2020-1</td>\n",
       "      <td>5.00</td>\n",
       "      <td>15.0</td>\n",
       "      <td>5.0</td>\n",
       "      <td>16.09</td>\n",
       "      <td>5.00</td>\n",
       "      <td>21.88</td>\n",
       "      <td>5.0</td>\n",
       "      <td>5.00</td>\n",
       "      <td>5.0</td>\n",
       "      <td>82.97</td>\n",
       "      <td>0</td>\n",
       "      <td>0</td>\n",
       "      <td>0</td>\n",
       "      <td>0</td>\n",
       "      <td>7</td>\n",
       "      <td>30</td>\n",
       "      <td>1</td>\n",
       "      <td>0</td>\n",
       "      <td>30</td>\n",
       "      <td>4</td>\n",
       "      <td>0</td>\n",
       "      <td>0</td>\n",
       "      <td>14</td>\n",
       "      <td>39</td>\n",
       "      <td>2</td>\n",
       "      <td>0</td>\n",
       "      <td>24</td>\n",
       "      <td>6</td>\n",
       "      <td>1</td>\n",
       "      <td>0</td>\n",
       "      <td>28</td>\n",
       "      <td>30</td>\n",
       "      <td>2</td>\n",
       "      <td>0</td>\n",
       "      <td>2</td>\n",
       "      <td>0</td>\n",
       "      <td>1</td>\n",
       "      <td>0</td>\n",
       "      <td>5</td>\n",
       "      <td>4</td>\n",
       "      <td>0</td>\n",
       "      <td>4</td>\n",
       "      <td>8</td>\n",
       "      <td>6</td>\n",
       "      <td>1</td>\n",
       "      <td>0</td>\n",
       "      <td>4</td>\n",
       "    </tr>\n",
       "    <tr>\n",
       "      <th>1</th>\n",
       "      <td>ML-2020-2</td>\n",
       "      <td>3.33</td>\n",
       "      <td>15.0</td>\n",
       "      <td>5.0</td>\n",
       "      <td>17.83</td>\n",
       "      <td>5.00</td>\n",
       "      <td>22.27</td>\n",
       "      <td>5.0</td>\n",
       "      <td>4.00</td>\n",
       "      <td>5.0</td>\n",
       "      <td>82.43</td>\n",
       "      <td>8</td>\n",
       "      <td>0</td>\n",
       "      <td>0</td>\n",
       "      <td>0</td>\n",
       "      <td>61</td>\n",
       "      <td>10</td>\n",
       "      <td>3</td>\n",
       "      <td>8</td>\n",
       "      <td>100</td>\n",
       "      <td>4</td>\n",
       "      <td>4</td>\n",
       "      <td>3</td>\n",
       "      <td>130</td>\n",
       "      <td>16</td>\n",
       "      <td>1</td>\n",
       "      <td>4</td>\n",
       "      <td>48</td>\n",
       "      <td>19</td>\n",
       "      <td>5</td>\n",
       "      <td>5</td>\n",
       "      <td>57</td>\n",
       "      <td>22</td>\n",
       "      <td>2</td>\n",
       "      <td>4</td>\n",
       "      <td>31</td>\n",
       "      <td>9</td>\n",
       "      <td>0</td>\n",
       "      <td>8</td>\n",
       "      <td>5</td>\n",
       "      <td>2</td>\n",
       "      <td>0</td>\n",
       "      <td>0</td>\n",
       "      <td>25</td>\n",
       "      <td>3</td>\n",
       "      <td>2</td>\n",
       "      <td>5</td>\n",
       "      <td>4</td>\n",
       "    </tr>\n",
       "    <tr>\n",
       "      <th>2</th>\n",
       "      <td>ML-2020-3</td>\n",
       "      <td>1.67</td>\n",
       "      <td>13.0</td>\n",
       "      <td>5.0</td>\n",
       "      <td>15.22</td>\n",
       "      <td>5.00</td>\n",
       "      <td>27.05</td>\n",
       "      <td>2.5</td>\n",
       "      <td>5.00</td>\n",
       "      <td>5.0</td>\n",
       "      <td>79.44</td>\n",
       "      <td>4</td>\n",
       "      <td>0</td>\n",
       "      <td>0</td>\n",
       "      <td>0</td>\n",
       "      <td>19</td>\n",
       "      <td>10</td>\n",
       "      <td>3</td>\n",
       "      <td>3</td>\n",
       "      <td>25</td>\n",
       "      <td>4</td>\n",
       "      <td>0</td>\n",
       "      <td>2</td>\n",
       "      <td>50</td>\n",
       "      <td>19</td>\n",
       "      <td>2</td>\n",
       "      <td>2</td>\n",
       "      <td>28</td>\n",
       "      <td>6</td>\n",
       "      <td>0</td>\n",
       "      <td>2</td>\n",
       "      <td>14</td>\n",
       "      <td>20</td>\n",
       "      <td>2</td>\n",
       "      <td>0</td>\n",
       "      <td>12</td>\n",
       "      <td>4</td>\n",
       "      <td>0</td>\n",
       "      <td>0</td>\n",
       "      <td>8</td>\n",
       "      <td>2</td>\n",
       "      <td>0</td>\n",
       "      <td>0</td>\n",
       "      <td>9</td>\n",
       "      <td>0</td>\n",
       "      <td>1</td>\n",
       "      <td>0</td>\n",
       "      <td>3</td>\n",
       "    </tr>\n",
       "    <tr>\n",
       "      <th>3</th>\n",
       "      <td>ML-2020-4</td>\n",
       "      <td>2.50</td>\n",
       "      <td>14.0</td>\n",
       "      <td>5.0</td>\n",
       "      <td>10.00</td>\n",
       "      <td>5.00</td>\n",
       "      <td>31.02</td>\n",
       "      <td>5.0</td>\n",
       "      <td>3.13</td>\n",
       "      <td>5.0</td>\n",
       "      <td>80.65</td>\n",
       "      <td>12</td>\n",
       "      <td>0</td>\n",
       "      <td>0</td>\n",
       "      <td>1</td>\n",
       "      <td>30</td>\n",
       "      <td>10</td>\n",
       "      <td>1</td>\n",
       "      <td>6</td>\n",
       "      <td>79</td>\n",
       "      <td>4</td>\n",
       "      <td>2</td>\n",
       "      <td>2</td>\n",
       "      <td>240</td>\n",
       "      <td>27</td>\n",
       "      <td>2</td>\n",
       "      <td>1</td>\n",
       "      <td>47</td>\n",
       "      <td>4</td>\n",
       "      <td>3</td>\n",
       "      <td>1</td>\n",
       "      <td>99</td>\n",
       "      <td>19</td>\n",
       "      <td>4</td>\n",
       "      <td>0</td>\n",
       "      <td>29</td>\n",
       "      <td>4</td>\n",
       "      <td>5</td>\n",
       "      <td>4</td>\n",
       "      <td>10</td>\n",
       "      <td>0</td>\n",
       "      <td>0</td>\n",
       "      <td>0</td>\n",
       "      <td>7</td>\n",
       "      <td>6</td>\n",
       "      <td>0</td>\n",
       "      <td>0</td>\n",
       "      <td>3</td>\n",
       "    </tr>\n",
       "    <tr>\n",
       "      <th>4</th>\n",
       "      <td>ML-2020-6</td>\n",
       "      <td>0.00</td>\n",
       "      <td>15.0</td>\n",
       "      <td>5.0</td>\n",
       "      <td>12.17</td>\n",
       "      <td>4.93</td>\n",
       "      <td>15.91</td>\n",
       "      <td>5.0</td>\n",
       "      <td>4.67</td>\n",
       "      <td>5.0</td>\n",
       "      <td>67.68</td>\n",
       "      <td>6</td>\n",
       "      <td>0</td>\n",
       "      <td>0</td>\n",
       "      <td>0</td>\n",
       "      <td>0</td>\n",
       "      <td>0</td>\n",
       "      <td>0</td>\n",
       "      <td>0</td>\n",
       "      <td>27</td>\n",
       "      <td>5</td>\n",
       "      <td>0</td>\n",
       "      <td>0</td>\n",
       "      <td>6</td>\n",
       "      <td>15</td>\n",
       "      <td>1</td>\n",
       "      <td>0</td>\n",
       "      <td>32</td>\n",
       "      <td>12</td>\n",
       "      <td>0</td>\n",
       "      <td>8</td>\n",
       "      <td>22</td>\n",
       "      <td>18</td>\n",
       "      <td>1</td>\n",
       "      <td>2</td>\n",
       "      <td>43</td>\n",
       "      <td>4</td>\n",
       "      <td>3</td>\n",
       "      <td>6</td>\n",
       "      <td>8</td>\n",
       "      <td>5</td>\n",
       "      <td>1</td>\n",
       "      <td>1</td>\n",
       "      <td>5</td>\n",
       "      <td>3</td>\n",
       "      <td>1</td>\n",
       "      <td>0</td>\n",
       "      <td>2</td>\n",
       "    </tr>\n",
       "  </tbody>\n",
       "</table>\n",
       "</div>"
      ],
      "text/plain": [
       "          ID  Week2_Quiz1  Week3_MP1  ...  Week9_Stat2  Week9_Stat3  Grade\n",
       "0  ML-2020-1         5.00       15.0  ...            1            0      4\n",
       "1  ML-2020-2         3.33       15.0  ...            2            5      4\n",
       "2  ML-2020-3         1.67       13.0  ...            1            0      3\n",
       "3  ML-2020-4         2.50       14.0  ...            0            0      3\n",
       "4  ML-2020-6         0.00       15.0  ...            1            0      2\n",
       "\n",
       "[5 rows x 48 columns]"
      ]
     },
     "execution_count": 3,
     "metadata": {},
     "output_type": "execute_result"
    }
   ],
   "source": [
    "# Looking into the data\n",
    "\n",
    "df.head()"
   ]
  },
  {
   "cell_type": "code",
   "execution_count": 4,
   "metadata": {
    "colab": {
     "base_uri": "https://localhost:8080/"
    },
    "id": "yUsfFB127RhU",
    "outputId": "8f98b868-fb20-4e31-f750-475b9218e1f1"
   },
   "outputs": [
    {
     "name": "stdout",
     "output_type": "stream",
     "text": [
      "List of columns:\n",
      "\n",
      "ID\n",
      "Week2_Quiz1\n",
      "Week3_MP1\n",
      "Week3_PR1\n",
      "Week5_MP2\n",
      "Week5_PR2\n",
      "Week7_MP3\n",
      "Week7_PR3\n",
      "Week4_Quiz2\n",
      "Week6_Quiz3\n",
      "Week8_Total\n",
      "Week1_Stat0\n",
      "Week1_Stat1\n",
      "Week1_Stat2\n",
      "Week1_Stat3\n",
      "Week2_Stat0\n",
      "Week2_Stat1\n",
      "Week2_Stat2\n",
      "Week2_Stat3\n",
      "Week3_Stat0\n",
      "Week3_Stat1\n",
      "Week3_Stat2\n",
      "Week3_Stat3\n",
      "Week4_Stat0\n",
      "Week4_Stat1\n",
      "Week4_Stat2\n",
      "Week4_Stat3\n",
      "Week5_Stat0\n",
      "Week5_Stat1\n",
      "Week5_Stat2\n",
      "Week5_Stat3\n",
      "Week6_Stat0\n",
      "Week6_Stat1\n",
      "Week6_Stat2\n",
      "Week6_Stat3\n",
      "Week7_Stat0\n",
      "Week7_Stat1\n",
      "Week7_Stat2\n",
      "Week7_Stat3\n",
      "Week8_Stat0\n",
      "Week8_Stat1\n",
      "Week8_Stat2\n",
      "Week8_Stat3\n",
      "Week9_Stat0\n",
      "Week9_Stat1\n",
      "Week9_Stat2\n",
      "Week9_Stat3\n",
      "Grade\n"
     ]
    }
   ],
   "source": [
    "# Getting the list of columns\n",
    "\n",
    "print(\"List of columns:\\n\")\n",
    "\n",
    "for col in df.columns:\n",
    "    print(col)"
   ]
  },
  {
   "cell_type": "code",
   "execution_count": 5,
   "metadata": {
    "colab": {
     "base_uri": "https://localhost:8080/",
     "height": 317
    },
    "id": "4iJPR6Pk7jhf",
    "outputId": "0d9059ae-ff6f-4988-fc0a-b92f7a849914"
   },
   "outputs": [
    {
     "data": {
      "text/html": [
       "<div>\n",
       "<style scoped>\n",
       "    .dataframe tbody tr th:only-of-type {\n",
       "        vertical-align: middle;\n",
       "    }\n",
       "\n",
       "    .dataframe tbody tr th {\n",
       "        vertical-align: top;\n",
       "    }\n",
       "\n",
       "    .dataframe thead th {\n",
       "        text-align: right;\n",
       "    }\n",
       "</style>\n",
       "<table border=\"1\" class=\"dataframe\">\n",
       "  <thead>\n",
       "    <tr style=\"text-align: right;\">\n",
       "      <th></th>\n",
       "      <th>Week2_Quiz1</th>\n",
       "      <th>Week3_MP1</th>\n",
       "      <th>Week3_PR1</th>\n",
       "      <th>Week5_MP2</th>\n",
       "      <th>Week5_PR2</th>\n",
       "      <th>Week7_MP3</th>\n",
       "      <th>Week7_PR3</th>\n",
       "      <th>Week4_Quiz2</th>\n",
       "      <th>Week6_Quiz3</th>\n",
       "      <th>Week8_Total</th>\n",
       "      <th>Week1_Stat0</th>\n",
       "      <th>Week1_Stat1</th>\n",
       "      <th>Week1_Stat2</th>\n",
       "      <th>Week1_Stat3</th>\n",
       "      <th>Week2_Stat0</th>\n",
       "      <th>Week2_Stat1</th>\n",
       "      <th>Week2_Stat2</th>\n",
       "      <th>Week2_Stat3</th>\n",
       "      <th>Week3_Stat0</th>\n",
       "      <th>Week3_Stat1</th>\n",
       "      <th>Week3_Stat2</th>\n",
       "      <th>Week3_Stat3</th>\n",
       "      <th>Week4_Stat0</th>\n",
       "      <th>Week4_Stat1</th>\n",
       "      <th>Week4_Stat2</th>\n",
       "      <th>Week4_Stat3</th>\n",
       "      <th>Week5_Stat0</th>\n",
       "      <th>Week5_Stat1</th>\n",
       "      <th>Week5_Stat2</th>\n",
       "      <th>Week5_Stat3</th>\n",
       "      <th>Week6_Stat0</th>\n",
       "      <th>Week6_Stat1</th>\n",
       "      <th>Week6_Stat2</th>\n",
       "      <th>Week6_Stat3</th>\n",
       "      <th>Week7_Stat0</th>\n",
       "      <th>Week7_Stat1</th>\n",
       "      <th>Week7_Stat2</th>\n",
       "      <th>Week7_Stat3</th>\n",
       "      <th>Week8_Stat0</th>\n",
       "      <th>Week8_Stat1</th>\n",
       "      <th>Week8_Stat2</th>\n",
       "      <th>Week8_Stat3</th>\n",
       "      <th>Week9_Stat0</th>\n",
       "      <th>Week9_Stat1</th>\n",
       "      <th>Week9_Stat2</th>\n",
       "      <th>Week9_Stat3</th>\n",
       "      <th>Grade</th>\n",
       "    </tr>\n",
       "  </thead>\n",
       "  <tbody>\n",
       "    <tr>\n",
       "      <th>count</th>\n",
       "      <td>107.000000</td>\n",
       "      <td>107.000000</td>\n",
       "      <td>107.000000</td>\n",
       "      <td>107.000000</td>\n",
       "      <td>107.000000</td>\n",
       "      <td>107.000000</td>\n",
       "      <td>107.000000</td>\n",
       "      <td>107.000000</td>\n",
       "      <td>107.000000</td>\n",
       "      <td>107.000000</td>\n",
       "      <td>107.000000</td>\n",
       "      <td>107.0</td>\n",
       "      <td>107.000000</td>\n",
       "      <td>107.000000</td>\n",
       "      <td>107.00000</td>\n",
       "      <td>107.000000</td>\n",
       "      <td>107.000000</td>\n",
       "      <td>107.000000</td>\n",
       "      <td>107.000000</td>\n",
       "      <td>107.000000</td>\n",
       "      <td>107.000000</td>\n",
       "      <td>107.000000</td>\n",
       "      <td>107.000000</td>\n",
       "      <td>107.000000</td>\n",
       "      <td>107.000000</td>\n",
       "      <td>107.000000</td>\n",
       "      <td>107.000000</td>\n",
       "      <td>107.000000</td>\n",
       "      <td>107.000000</td>\n",
       "      <td>107.000000</td>\n",
       "      <td>107.000000</td>\n",
       "      <td>107.000000</td>\n",
       "      <td>107.000000</td>\n",
       "      <td>107.000000</td>\n",
       "      <td>107.000000</td>\n",
       "      <td>107.000000</td>\n",
       "      <td>107.000000</td>\n",
       "      <td>107.000000</td>\n",
       "      <td>107.000000</td>\n",
       "      <td>107.000000</td>\n",
       "      <td>107.000000</td>\n",
       "      <td>107.000000</td>\n",
       "      <td>107.000000</td>\n",
       "      <td>107.000000</td>\n",
       "      <td>107.000000</td>\n",
       "      <td>107.000000</td>\n",
       "      <td>107.000000</td>\n",
       "    </tr>\n",
       "    <tr>\n",
       "      <th>mean</th>\n",
       "      <td>2.406636</td>\n",
       "      <td>7.949626</td>\n",
       "      <td>2.803738</td>\n",
       "      <td>9.237757</td>\n",
       "      <td>2.844673</td>\n",
       "      <td>14.481869</td>\n",
       "      <td>2.383178</td>\n",
       "      <td>2.609439</td>\n",
       "      <td>2.663551</td>\n",
       "      <td>47.380467</td>\n",
       "      <td>6.785047</td>\n",
       "      <td>0.0</td>\n",
       "      <td>0.598131</td>\n",
       "      <td>0.224299</td>\n",
       "      <td>16.88785</td>\n",
       "      <td>13.299065</td>\n",
       "      <td>1.252336</td>\n",
       "      <td>1.841121</td>\n",
       "      <td>31.728972</td>\n",
       "      <td>2.822430</td>\n",
       "      <td>0.953271</td>\n",
       "      <td>1.130841</td>\n",
       "      <td>41.915888</td>\n",
       "      <td>16.046729</td>\n",
       "      <td>1.943925</td>\n",
       "      <td>1.009346</td>\n",
       "      <td>26.074766</td>\n",
       "      <td>5.009346</td>\n",
       "      <td>1.588785</td>\n",
       "      <td>0.663551</td>\n",
       "      <td>37.607477</td>\n",
       "      <td>14.271028</td>\n",
       "      <td>2.775701</td>\n",
       "      <td>0.411215</td>\n",
       "      <td>16.355140</td>\n",
       "      <td>3.242991</td>\n",
       "      <td>1.813084</td>\n",
       "      <td>1.252336</td>\n",
       "      <td>10.514019</td>\n",
       "      <td>3.130841</td>\n",
       "      <td>1.112150</td>\n",
       "      <td>0.355140</td>\n",
       "      <td>7.663551</td>\n",
       "      <td>1.607477</td>\n",
       "      <td>1.093458</td>\n",
       "      <td>0.046729</td>\n",
       "      <td>2.074766</td>\n",
       "    </tr>\n",
       "    <tr>\n",
       "      <th>std</th>\n",
       "      <td>2.000317</td>\n",
       "      <td>6.892312</td>\n",
       "      <td>2.493158</td>\n",
       "      <td>8.640610</td>\n",
       "      <td>2.482099</td>\n",
       "      <td>14.080211</td>\n",
       "      <td>2.437501</td>\n",
       "      <td>2.229419</td>\n",
       "      <td>2.414359</td>\n",
       "      <td>41.035589</td>\n",
       "      <td>7.157300</td>\n",
       "      <td>0.0</td>\n",
       "      <td>1.966031</td>\n",
       "      <td>0.730836</td>\n",
       "      <td>16.30796</td>\n",
       "      <td>11.308049</td>\n",
       "      <td>1.505295</td>\n",
       "      <td>4.202761</td>\n",
       "      <td>28.686191</td>\n",
       "      <td>3.206165</td>\n",
       "      <td>2.689544</td>\n",
       "      <td>2.269919</td>\n",
       "      <td>47.164330</td>\n",
       "      <td>17.040675</td>\n",
       "      <td>2.790928</td>\n",
       "      <td>2.806648</td>\n",
       "      <td>31.159269</td>\n",
       "      <td>6.568213</td>\n",
       "      <td>3.954823</td>\n",
       "      <td>1.822003</td>\n",
       "      <td>47.851334</td>\n",
       "      <td>14.009815</td>\n",
       "      <td>7.206271</td>\n",
       "      <td>1.220526</td>\n",
       "      <td>22.242341</td>\n",
       "      <td>5.001587</td>\n",
       "      <td>4.895379</td>\n",
       "      <td>2.399267</td>\n",
       "      <td>15.563846</td>\n",
       "      <td>4.841028</td>\n",
       "      <td>3.658351</td>\n",
       "      <td>1.191577</td>\n",
       "      <td>9.277630</td>\n",
       "      <td>2.687346</td>\n",
       "      <td>3.368928</td>\n",
       "      <td>0.483368</td>\n",
       "      <td>1.993863</td>\n",
       "    </tr>\n",
       "    <tr>\n",
       "      <th>min</th>\n",
       "      <td>0.000000</td>\n",
       "      <td>0.000000</td>\n",
       "      <td>0.000000</td>\n",
       "      <td>0.000000</td>\n",
       "      <td>0.000000</td>\n",
       "      <td>0.000000</td>\n",
       "      <td>0.000000</td>\n",
       "      <td>0.000000</td>\n",
       "      <td>0.000000</td>\n",
       "      <td>0.000000</td>\n",
       "      <td>0.000000</td>\n",
       "      <td>0.0</td>\n",
       "      <td>0.000000</td>\n",
       "      <td>0.000000</td>\n",
       "      <td>0.00000</td>\n",
       "      <td>0.000000</td>\n",
       "      <td>0.000000</td>\n",
       "      <td>0.000000</td>\n",
       "      <td>0.000000</td>\n",
       "      <td>0.000000</td>\n",
       "      <td>0.000000</td>\n",
       "      <td>0.000000</td>\n",
       "      <td>0.000000</td>\n",
       "      <td>0.000000</td>\n",
       "      <td>0.000000</td>\n",
       "      <td>0.000000</td>\n",
       "      <td>0.000000</td>\n",
       "      <td>0.000000</td>\n",
       "      <td>0.000000</td>\n",
       "      <td>0.000000</td>\n",
       "      <td>0.000000</td>\n",
       "      <td>0.000000</td>\n",
       "      <td>0.000000</td>\n",
       "      <td>0.000000</td>\n",
       "      <td>0.000000</td>\n",
       "      <td>0.000000</td>\n",
       "      <td>0.000000</td>\n",
       "      <td>0.000000</td>\n",
       "      <td>0.000000</td>\n",
       "      <td>0.000000</td>\n",
       "      <td>0.000000</td>\n",
       "      <td>0.000000</td>\n",
       "      <td>0.000000</td>\n",
       "      <td>0.000000</td>\n",
       "      <td>0.000000</td>\n",
       "      <td>0.000000</td>\n",
       "      <td>0.000000</td>\n",
       "    </tr>\n",
       "    <tr>\n",
       "      <th>25%</th>\n",
       "      <td>0.000000</td>\n",
       "      <td>0.000000</td>\n",
       "      <td>0.000000</td>\n",
       "      <td>0.000000</td>\n",
       "      <td>0.000000</td>\n",
       "      <td>0.000000</td>\n",
       "      <td>0.000000</td>\n",
       "      <td>0.000000</td>\n",
       "      <td>0.000000</td>\n",
       "      <td>0.000000</td>\n",
       "      <td>1.000000</td>\n",
       "      <td>0.0</td>\n",
       "      <td>0.000000</td>\n",
       "      <td>0.000000</td>\n",
       "      <td>6.50000</td>\n",
       "      <td>10.000000</td>\n",
       "      <td>1.000000</td>\n",
       "      <td>0.000000</td>\n",
       "      <td>3.000000</td>\n",
       "      <td>0.000000</td>\n",
       "      <td>0.000000</td>\n",
       "      <td>0.000000</td>\n",
       "      <td>0.500000</td>\n",
       "      <td>0.000000</td>\n",
       "      <td>0.000000</td>\n",
       "      <td>0.000000</td>\n",
       "      <td>0.000000</td>\n",
       "      <td>0.000000</td>\n",
       "      <td>0.000000</td>\n",
       "      <td>0.000000</td>\n",
       "      <td>0.000000</td>\n",
       "      <td>0.000000</td>\n",
       "      <td>0.000000</td>\n",
       "      <td>0.000000</td>\n",
       "      <td>0.000000</td>\n",
       "      <td>0.000000</td>\n",
       "      <td>0.000000</td>\n",
       "      <td>0.000000</td>\n",
       "      <td>0.000000</td>\n",
       "      <td>0.000000</td>\n",
       "      <td>0.000000</td>\n",
       "      <td>0.000000</td>\n",
       "      <td>1.000000</td>\n",
       "      <td>0.000000</td>\n",
       "      <td>0.000000</td>\n",
       "      <td>0.000000</td>\n",
       "      <td>0.000000</td>\n",
       "    </tr>\n",
       "    <tr>\n",
       "      <th>50%</th>\n",
       "      <td>3.330000</td>\n",
       "      <td>12.000000</td>\n",
       "      <td>5.000000</td>\n",
       "      <td>10.870000</td>\n",
       "      <td>5.000000</td>\n",
       "      <td>15.910000</td>\n",
       "      <td>2.500000</td>\n",
       "      <td>3.170000</td>\n",
       "      <td>4.000000</td>\n",
       "      <td>71.530000</td>\n",
       "      <td>4.000000</td>\n",
       "      <td>0.0</td>\n",
       "      <td>0.000000</td>\n",
       "      <td>0.000000</td>\n",
       "      <td>15.00000</td>\n",
       "      <td>11.000000</td>\n",
       "      <td>1.000000</td>\n",
       "      <td>0.000000</td>\n",
       "      <td>27.000000</td>\n",
       "      <td>4.000000</td>\n",
       "      <td>0.000000</td>\n",
       "      <td>0.000000</td>\n",
       "      <td>27.000000</td>\n",
       "      <td>15.000000</td>\n",
       "      <td>1.000000</td>\n",
       "      <td>0.000000</td>\n",
       "      <td>20.000000</td>\n",
       "      <td>4.000000</td>\n",
       "      <td>0.000000</td>\n",
       "      <td>0.000000</td>\n",
       "      <td>18.000000</td>\n",
       "      <td>15.000000</td>\n",
       "      <td>1.000000</td>\n",
       "      <td>0.000000</td>\n",
       "      <td>11.000000</td>\n",
       "      <td>0.000000</td>\n",
       "      <td>0.000000</td>\n",
       "      <td>0.000000</td>\n",
       "      <td>5.000000</td>\n",
       "      <td>0.000000</td>\n",
       "      <td>0.000000</td>\n",
       "      <td>0.000000</td>\n",
       "      <td>5.000000</td>\n",
       "      <td>0.000000</td>\n",
       "      <td>0.000000</td>\n",
       "      <td>0.000000</td>\n",
       "      <td>3.000000</td>\n",
       "    </tr>\n",
       "    <tr>\n",
       "      <th>75%</th>\n",
       "      <td>4.170000</td>\n",
       "      <td>14.305000</td>\n",
       "      <td>5.000000</td>\n",
       "      <td>18.045000</td>\n",
       "      <td>5.000000</td>\n",
       "      <td>27.440000</td>\n",
       "      <td>5.000000</td>\n",
       "      <td>4.710000</td>\n",
       "      <td>5.000000</td>\n",
       "      <td>83.550000</td>\n",
       "      <td>12.000000</td>\n",
       "      <td>0.0</td>\n",
       "      <td>0.000000</td>\n",
       "      <td>0.000000</td>\n",
       "      <td>24.00000</td>\n",
       "      <td>19.000000</td>\n",
       "      <td>1.000000</td>\n",
       "      <td>2.000000</td>\n",
       "      <td>47.500000</td>\n",
       "      <td>4.000000</td>\n",
       "      <td>0.000000</td>\n",
       "      <td>1.000000</td>\n",
       "      <td>74.500000</td>\n",
       "      <td>27.500000</td>\n",
       "      <td>2.000000</td>\n",
       "      <td>1.000000</td>\n",
       "      <td>40.500000</td>\n",
       "      <td>6.500000</td>\n",
       "      <td>1.000000</td>\n",
       "      <td>0.000000</td>\n",
       "      <td>65.000000</td>\n",
       "      <td>25.000000</td>\n",
       "      <td>2.000000</td>\n",
       "      <td>0.000000</td>\n",
       "      <td>27.000000</td>\n",
       "      <td>5.000000</td>\n",
       "      <td>1.000000</td>\n",
       "      <td>2.000000</td>\n",
       "      <td>14.000000</td>\n",
       "      <td>5.000000</td>\n",
       "      <td>0.000000</td>\n",
       "      <td>0.000000</td>\n",
       "      <td>11.000000</td>\n",
       "      <td>2.000000</td>\n",
       "      <td>0.500000</td>\n",
       "      <td>0.000000</td>\n",
       "      <td>4.000000</td>\n",
       "    </tr>\n",
       "    <tr>\n",
       "      <th>max</th>\n",
       "      <td>5.000000</td>\n",
       "      <td>15.000000</td>\n",
       "      <td>5.000000</td>\n",
       "      <td>20.000000</td>\n",
       "      <td>5.000000</td>\n",
       "      <td>35.000000</td>\n",
       "      <td>5.000000</td>\n",
       "      <td>5.000000</td>\n",
       "      <td>5.000000</td>\n",
       "      <td>99.710000</td>\n",
       "      <td>27.000000</td>\n",
       "      <td>0.0</td>\n",
       "      <td>11.000000</td>\n",
       "      <td>6.000000</td>\n",
       "      <td>104.00000</td>\n",
       "      <td>57.000000</td>\n",
       "      <td>10.000000</td>\n",
       "      <td>25.000000</td>\n",
       "      <td>108.000000</td>\n",
       "      <td>15.000000</td>\n",
       "      <td>15.000000</td>\n",
       "      <td>14.000000</td>\n",
       "      <td>240.000000</td>\n",
       "      <td>87.000000</td>\n",
       "      <td>13.000000</td>\n",
       "      <td>24.000000</td>\n",
       "      <td>185.000000</td>\n",
       "      <td>39.000000</td>\n",
       "      <td>23.000000</td>\n",
       "      <td>11.000000</td>\n",
       "      <td>208.000000</td>\n",
       "      <td>51.000000</td>\n",
       "      <td>45.000000</td>\n",
       "      <td>7.000000</td>\n",
       "      <td>145.000000</td>\n",
       "      <td>24.000000</td>\n",
       "      <td>35.000000</td>\n",
       "      <td>12.000000</td>\n",
       "      <td>90.000000</td>\n",
       "      <td>27.000000</td>\n",
       "      <td>22.000000</td>\n",
       "      <td>9.000000</td>\n",
       "      <td>62.000000</td>\n",
       "      <td>12.000000</td>\n",
       "      <td>25.000000</td>\n",
       "      <td>5.000000</td>\n",
       "      <td>5.000000</td>\n",
       "    </tr>\n",
       "  </tbody>\n",
       "</table>\n",
       "</div>"
      ],
      "text/plain": [
       "       Week2_Quiz1   Week3_MP1  ...  Week9_Stat3       Grade\n",
       "count   107.000000  107.000000  ...   107.000000  107.000000\n",
       "mean      2.406636    7.949626  ...     0.046729    2.074766\n",
       "std       2.000317    6.892312  ...     0.483368    1.993863\n",
       "min       0.000000    0.000000  ...     0.000000    0.000000\n",
       "25%       0.000000    0.000000  ...     0.000000    0.000000\n",
       "50%       3.330000   12.000000  ...     0.000000    3.000000\n",
       "75%       4.170000   14.305000  ...     0.000000    4.000000\n",
       "max       5.000000   15.000000  ...     5.000000    5.000000\n",
       "\n",
       "[8 rows x 47 columns]"
      ]
     },
     "execution_count": 5,
     "metadata": {},
     "output_type": "execute_result"
    }
   ],
   "source": [
    "# Getting statistical information from numerical data columns\n",
    "\n",
    "df.describe()"
   ]
  },
  {
   "cell_type": "code",
   "execution_count": 6,
   "metadata": {
    "id": "vIjO-qWkCwS-"
   },
   "outputs": [],
   "source": [
    "# Dropping useless columns\n",
    "\n",
    "df = df.drop(['Week1_Stat1', 'Week8_Total'], axis=1)"
   ]
  },
  {
   "cell_type": "code",
   "execution_count": 7,
   "metadata": {
    "colab": {
     "base_uri": "https://localhost:8080/"
    },
    "id": "cyAvM-xI7b9y",
    "outputId": "84c5c181-d1b7-4be3-84b6-5a80fa97631e"
   },
   "outputs": [
    {
     "name": "stdout",
     "output_type": "stream",
     "text": [
      "<class 'pandas.core.frame.DataFrame'>\n",
      "RangeIndex: 107 entries, 0 to 106\n",
      "Data columns (total 46 columns):\n",
      " #   Column       Non-Null Count  Dtype  \n",
      "---  ------       --------------  -----  \n",
      " 0   ID           107 non-null    object \n",
      " 1   Week2_Quiz1  107 non-null    float64\n",
      " 2   Week3_MP1    107 non-null    float64\n",
      " 3   Week3_PR1    107 non-null    float64\n",
      " 4   Week5_MP2    107 non-null    float64\n",
      " 5   Week5_PR2    107 non-null    float64\n",
      " 6   Week7_MP3    107 non-null    float64\n",
      " 7   Week7_PR3    107 non-null    float64\n",
      " 8   Week4_Quiz2  107 non-null    float64\n",
      " 9   Week6_Quiz3  107 non-null    float64\n",
      " 10  Week1_Stat0  107 non-null    int64  \n",
      " 11  Week1_Stat2  107 non-null    int64  \n",
      " 12  Week1_Stat3  107 non-null    int64  \n",
      " 13  Week2_Stat0  107 non-null    int64  \n",
      " 14  Week2_Stat1  107 non-null    int64  \n",
      " 15  Week2_Stat2  107 non-null    int64  \n",
      " 16  Week2_Stat3  107 non-null    int64  \n",
      " 17  Week3_Stat0  107 non-null    int64  \n",
      " 18  Week3_Stat1  107 non-null    int64  \n",
      " 19  Week3_Stat2  107 non-null    int64  \n",
      " 20  Week3_Stat3  107 non-null    int64  \n",
      " 21  Week4_Stat0  107 non-null    int64  \n",
      " 22  Week4_Stat1  107 non-null    int64  \n",
      " 23  Week4_Stat2  107 non-null    int64  \n",
      " 24  Week4_Stat3  107 non-null    int64  \n",
      " 25  Week5_Stat0  107 non-null    int64  \n",
      " 26  Week5_Stat1  107 non-null    int64  \n",
      " 27  Week5_Stat2  107 non-null    int64  \n",
      " 28  Week5_Stat3  107 non-null    int64  \n",
      " 29  Week6_Stat0  107 non-null    int64  \n",
      " 30  Week6_Stat1  107 non-null    int64  \n",
      " 31  Week6_Stat2  107 non-null    int64  \n",
      " 32  Week6_Stat3  107 non-null    int64  \n",
      " 33  Week7_Stat0  107 non-null    int64  \n",
      " 34  Week7_Stat1  107 non-null    int64  \n",
      " 35  Week7_Stat2  107 non-null    int64  \n",
      " 36  Week7_Stat3  107 non-null    int64  \n",
      " 37  Week8_Stat0  107 non-null    int64  \n",
      " 38  Week8_Stat1  107 non-null    int64  \n",
      " 39  Week8_Stat2  107 non-null    int64  \n",
      " 40  Week8_Stat3  107 non-null    int64  \n",
      " 41  Week9_Stat0  107 non-null    int64  \n",
      " 42  Week9_Stat1  107 non-null    int64  \n",
      " 43  Week9_Stat2  107 non-null    int64  \n",
      " 44  Week9_Stat3  107 non-null    int64  \n",
      " 45  Grade        107 non-null    int64  \n",
      "dtypes: float64(9), int64(36), object(1)\n",
      "memory usage: 38.6+ KB\n"
     ]
    }
   ],
   "source": [
    "# Checking column data types and the number of missing values\n",
    "\n",
    "df.info()"
   ]
  },
  {
   "cell_type": "code",
   "execution_count": 8,
   "metadata": {
    "colab": {
     "base_uri": "https://localhost:8080/",
     "height": 297
    },
    "id": "JPIfgrmX8AGE",
    "outputId": "ac583c01-16e4-41f6-969a-b5d0086b52b8"
   },
   "outputs": [
    {
     "data": {
      "image/png": "[encoded data removed]",
      "text/plain": [
       "<Figure size 576x288 with 1 Axes>"
      ]
     },
     "metadata": {
      "needs_background": "light"
     },
     "output_type": "display_data"
    }
   ],
   "source": [
    "# Plotting the histogram of the frequency of grades\n",
    "\n",
    "keys = df['Grade'].value_counts().keys()\n",
    "values = df['Grade'].value_counts().values\n",
    "\n",
    "plt.figure(figsize=(8, 4))\n",
    "plt.title('Histogram of the frequency of grades', fontsize=20)\n",
    "plt.xlabel('Grade', fontsize=15)\n",
    "plt.ylabel('Frequency', fontsize=15)\n",
    "plt.grid(axis='y')\n",
    "plt.bar(keys, values, color='blue')\n",
    "plt.tight_layout();"
   ]
  },
  {
   "cell_type": "code",
   "execution_count": 9,
   "metadata": {
    "colab": {
     "base_uri": "https://localhost:8080/",
     "height": 1000
    },
    "id": "ZJhyPqptAp0A",
    "outputId": "7beac347-8ca4-4384-95d2-77f11d04b1ae"
   },
   "outputs": [
    {
     "data": {
      "image/png": "[encoded data removed]",
      "text/plain": [
       "<Figure size 720x1080 with 1 Axes>"
      ]
     },
     "metadata": {
      "needs_background": "light"
     },
     "output_type": "display_data"
    }
   ],
   "source": [
    "# Looking for the features with highest correlation with the Grades column\n",
    "\n",
    "grade_corr_values = df.corr()['Grade'].sort_values(ascending=False)[1:]\n",
    "keys = grade_corr_values.keys()\n",
    "values = grade_corr_values.values\n",
    "color = ['red'] * len(values[values < 0]) + ['green'] * len(values[values >= 0])\n",
    "\n",
    "plt.figure(figsize=(10, 15))\n",
    "plt.title('Pearson correlation values with the Grade feature', fontsize=20)\n",
    "plt.xlabel('Pearson correlation values', fontsize=15)\n",
    "plt.ylabel('Feature', fontsize=15)\n",
    "plt.grid(axis='x')\n",
    "sns.barplot(x=values, y=keys)\n",
    "plt.tight_layout();"
   ]
  },
  {
   "cell_type": "code",
   "execution_count": 10,
   "metadata": {
    "colab": {
     "base_uri": "https://localhost:8080/",
     "height": 627
    },
    "id": "ZYPhMLBoS9JU",
    "outputId": "5b97a1e1-63e0-4f41-b713-ab9b4bdb12a6"
   },
   "outputs": [
    {
     "data": {
      "image/png": "[encoded data removed]",
      "text/plain": [
       "<Figure size 720x720 with 1 Axes>"
      ]
     },
     "metadata": {
      "needs_background": "light"
     },
     "output_type": "display_data"
    }
   ],
   "source": [
    "# Plotting box plots for Grades and Mini-Project 3 Scores\n",
    "\n",
    "fig, ax = plt.subplots(figsize=(10, 10))\n",
    "plt.title('Week7_MP3 vs Grades', fontsize=20)\n",
    "plt.grid(axis='y')\n",
    "sns.boxplot(x='Grade', y='Week7_MP3', data=df, ax=ax);"
   ]
  },
  {
   "cell_type": "code",
   "execution_count": 11,
   "metadata": {
    "colab": {
     "base_uri": "https://localhost:8080/",
     "height": 627
    },
    "id": "5ZQZZyiyTPCe",
    "outputId": "661048fc-7c6b-4e84-ffba-0669309ec537"
   },
   "outputs": [
    {
     "data": {
      "image/png": "[encoded data removed]",
      "text/plain": [
       "<Figure size 720x720 with 1 Axes>"
      ]
     },
     "metadata": {
      "needs_background": "light"
     },
     "output_type": "display_data"
    }
   ],
   "source": [
    "# Plotting box plots for Grades and Mini-Project 2 Scores\n",
    "\n",
    "fig, ax = plt.subplots(figsize=(10, 10))\n",
    "plt.title('Week5_MP2 vs Grades', fontsize=20)\n",
    "plt.grid(axis='y')\n",
    "sns.boxplot(x='Grade', y='Week5_MP2', data=df, ax=ax);"
   ]
  },
  {
   "cell_type": "code",
   "execution_count": 12,
   "metadata": {
    "colab": {
     "base_uri": "https://localhost:8080/",
     "height": 632
    },
    "id": "TbCrXbC9vmHS",
    "outputId": "32ed8938-c0a6-41ec-e323-4523c07e8656"
   },
   "outputs": [
    {
     "data": {
      "image/png": "[encoded data removed]",
      "text/plain": [
       "<Figure size 720x720 with 1 Axes>"
      ]
     },
     "metadata": {
      "needs_background": "light"
     },
     "output_type": "display_data"
    }
   ],
   "source": [
    "# Getting the percentage of students from each grade that have the highest score on Peer Review 2\n",
    "\n",
    "percentages = df[df['Week5_PR2'] >= 5]['Grade'].value_counts() / df['Grade'].value_counts() * 100\n",
    "fig, ax = plt.subplots(figsize=(10, 10))\n",
    "plt.title('Bar plot of percentages of students with maximum score on Week5_PR2', fontsize=20)\n",
    "plt.xlabel('Grade', fontsize=15)\n",
    "plt.ylabel('Percentage of students per grade (%)', fontsize=15)\n",
    "plt.grid(axis='y')\n",
    "sns.barplot(x=percentages.index, y=percentages.values);"
   ]
  },
  {
   "cell_type": "code",
   "execution_count": 13,
   "metadata": {
    "colab": {
     "base_uri": "https://localhost:8080/",
     "height": 204
    },
    "id": "hnf-xPSbEvQn",
    "outputId": "21e15ca4-5ffa-4f25-c7dd-9019a978f0aa"
   },
   "outputs": [
    {
     "data": {
      "text/html": [
       "<div>\n",
       "<style scoped>\n",
       "    .dataframe tbody tr th:only-of-type {\n",
       "        vertical-align: middle;\n",
       "    }\n",
       "\n",
       "    .dataframe tbody tr th {\n",
       "        vertical-align: top;\n",
       "    }\n",
       "\n",
       "    .dataframe thead th {\n",
       "        text-align: right;\n",
       "    }\n",
       "</style>\n",
       "<table border=\"1\" class=\"dataframe\">\n",
       "  <thead>\n",
       "    <tr style=\"text-align: right;\">\n",
       "      <th></th>\n",
       "      <th>Week7_MP3</th>\n",
       "      <th>Week5_MP2</th>\n",
       "      <th>Week5_PR2</th>\n",
       "      <th>Week3_MP1</th>\n",
       "      <th>Week3_PR1</th>\n",
       "      <th>Week7_PR3</th>\n",
       "      <th>Week6_Quiz3</th>\n",
       "      <th>Week4_Quiz2</th>\n",
       "      <th>Week6_Stat1</th>\n",
       "      <th>Week2_Quiz1</th>\n",
       "      <th>Grade</th>\n",
       "    </tr>\n",
       "  </thead>\n",
       "  <tbody>\n",
       "    <tr>\n",
       "      <th>0</th>\n",
       "      <td>21.88</td>\n",
       "      <td>16.09</td>\n",
       "      <td>5.00</td>\n",
       "      <td>15.0</td>\n",
       "      <td>5.0</td>\n",
       "      <td>5.0</td>\n",
       "      <td>5.0</td>\n",
       "      <td>5.00</td>\n",
       "      <td>30</td>\n",
       "      <td>5.00</td>\n",
       "      <td>4</td>\n",
       "    </tr>\n",
       "    <tr>\n",
       "      <th>1</th>\n",
       "      <td>22.27</td>\n",
       "      <td>17.83</td>\n",
       "      <td>5.00</td>\n",
       "      <td>15.0</td>\n",
       "      <td>5.0</td>\n",
       "      <td>5.0</td>\n",
       "      <td>5.0</td>\n",
       "      <td>4.00</td>\n",
       "      <td>22</td>\n",
       "      <td>3.33</td>\n",
       "      <td>4</td>\n",
       "    </tr>\n",
       "    <tr>\n",
       "      <th>2</th>\n",
       "      <td>27.05</td>\n",
       "      <td>15.22</td>\n",
       "      <td>5.00</td>\n",
       "      <td>13.0</td>\n",
       "      <td>5.0</td>\n",
       "      <td>2.5</td>\n",
       "      <td>5.0</td>\n",
       "      <td>5.00</td>\n",
       "      <td>20</td>\n",
       "      <td>1.67</td>\n",
       "      <td>3</td>\n",
       "    </tr>\n",
       "    <tr>\n",
       "      <th>3</th>\n",
       "      <td>31.02</td>\n",
       "      <td>10.00</td>\n",
       "      <td>5.00</td>\n",
       "      <td>14.0</td>\n",
       "      <td>5.0</td>\n",
       "      <td>5.0</td>\n",
       "      <td>5.0</td>\n",
       "      <td>3.13</td>\n",
       "      <td>19</td>\n",
       "      <td>2.50</td>\n",
       "      <td>3</td>\n",
       "    </tr>\n",
       "    <tr>\n",
       "      <th>4</th>\n",
       "      <td>15.91</td>\n",
       "      <td>12.17</td>\n",
       "      <td>4.93</td>\n",
       "      <td>15.0</td>\n",
       "      <td>5.0</td>\n",
       "      <td>5.0</td>\n",
       "      <td>5.0</td>\n",
       "      <td>4.67</td>\n",
       "      <td>18</td>\n",
       "      <td>0.00</td>\n",
       "      <td>2</td>\n",
       "    </tr>\n",
       "  </tbody>\n",
       "</table>\n",
       "</div>"
      ],
      "text/plain": [
       "   Week7_MP3  Week5_MP2  Week5_PR2  ...  Week6_Stat1  Week2_Quiz1  Grade\n",
       "0      21.88      16.09       5.00  ...           30         5.00      4\n",
       "1      22.27      17.83       5.00  ...           22         3.33      4\n",
       "2      27.05      15.22       5.00  ...           20         1.67      3\n",
       "3      31.02      10.00       5.00  ...           19         2.50      3\n",
       "4      15.91      12.17       4.93  ...           18         0.00      2\n",
       "\n",
       "[5 rows x 11 columns]"
      ]
     },
     "execution_count": 13,
     "metadata": {},
     "output_type": "execute_result"
    }
   ],
   "source": [
    "# 10 of the most correlated features are kept\n",
    "\n",
    "features = keys[:10]\n",
    "df = df[features.tolist() + ['Grade']]\n",
    "df.head()"
   ]
  },
  {
   "cell_type": "markdown",
   "metadata": {
    "id": "7Hs-TXJg5yt9"
   },
   "source": [
    "## **Step 2 - Training & Test Dataset**"
   ]
  },
  {
   "cell_type": "code",
   "execution_count": 14,
   "metadata": {
    "colab": {
     "base_uri": "https://localhost:8080/"
    },
    "id": "rfSjmf75EuDb",
    "outputId": "9ee9b217-bdf2-4936-fdc3-acde8c002f2e"
   },
   "outputs": [
    {
     "name": "stdout",
     "output_type": "stream",
     "text": [
      "Number of rows: 107\n",
      "Number of columns: 11\n"
     ]
    }
   ],
   "source": [
    "# Showing the shape of the dataset\n",
    "\n",
    "print(f\"Number of rows: {df.shape[0]}\")\n",
    "print(f\"Number of columns: {df.shape[1]}\")"
   ]
  },
  {
   "cell_type": "code",
   "execution_count": 15,
   "metadata": {
    "id": "jSwJKItYzgYz"
   },
   "outputs": [],
   "source": [
    "# Splitting the dataset into features and labels\n",
    "\n",
    "X = df[features]\n",
    "y = df['Grade']"
   ]
  },
  {
   "cell_type": "code",
   "execution_count": 16,
   "metadata": {
    "id": "eLboDmCuzZ5x"
   },
   "outputs": [],
   "source": [
    "# Splitting the dataset into training and testing parts (80/20)\n",
    "\n",
    "X_train, X_test, y_train, y_test = train_test_split(X, y, stratify=y, test_size=0.20, random_state=seed)"
   ]
  },
  {
   "cell_type": "code",
   "execution_count": 17,
   "metadata": {
    "colab": {
     "base_uri": "https://localhost:8080/"
    },
    "id": "GXXKygSt9JLa",
    "outputId": "e5a3f2c2-578c-4d83-c83f-76c9f9d9faa1"
   },
   "outputs": [
    {
     "name": "stdout",
     "output_type": "stream",
     "text": [
      "Shape of Training Dataset: (85, 10)\n",
      "Shape of Testing Dataset: (22, 10)\n"
     ]
    }
   ],
   "source": [
    "# Showing sizes of training and testing datasets\n",
    "\n",
    "print(f\"Shape of Training Dataset: {X_train.shape}\")\n",
    "print(f\"Shape of Testing Dataset: {X_test.shape}\")"
   ]
  },
  {
   "cell_type": "markdown",
   "metadata": {
    "id": "vxv0p4Hx5y1a"
   },
   "source": [
    "## **Step 3 - Train the Model**"
   ]
  },
  {
   "cell_type": "code",
   "execution_count": 18,
   "metadata": {
    "id": "-BcRVMlU9kyj"
   },
   "outputs": [],
   "source": [
    "# Defining Random Forest Classifier and Logistic Regression\n",
    "\n",
    "log_reg = LogisticRegression(random_state=seed)\n",
    "tree = RandomForestClassifier(random_state=seed)"
   ]
  },
  {
   "cell_type": "code",
   "execution_count": 19,
   "metadata": {
    "id": "lWRlEN_sA_Lf"
   },
   "outputs": [],
   "source": [
    "# Normalizing the data for the Logistic Regression\n",
    "\n",
    "scaler = StandardScaler().fit(X_train)\n",
    "X_scaled_train = scaler.transform(X_train)\n",
    "X_scaled_test = scaler.transform(X_test)"
   ]
  },
  {
   "cell_type": "code",
   "execution_count": 20,
   "metadata": {
    "colab": {
     "base_uri": "https://localhost:8080/"
    },
    "id": "XICNrE8OdryT",
    "outputId": "da242e1d-5ea5-4b61-b950-d68bff8697ed"
   },
   "outputs": [
    {
     "data": {
      "text/plain": [
       "RandomForestClassifier(bootstrap=True, ccp_alpha=0.0, class_weight=None,\n",
       "                       criterion='gini', max_depth=None, max_features='auto',\n",
       "                       max_leaf_nodes=None, max_samples=None,\n",
       "                       min_impurity_decrease=0.0, min_impurity_split=None,\n",
       "                       min_samples_leaf=1, min_samples_split=2,\n",
       "                       min_weight_fraction_leaf=0.0, n_estimators=100,\n",
       "                       n_jobs=None, oob_score=False, random_state=777,\n",
       "                       verbose=0, warm_start=False)"
      ]
     },
     "execution_count": 20,
     "metadata": {},
     "output_type": "execute_result"
    }
   ],
   "source": [
    "# Fitting the training dataset\n",
    "\n",
    "log_reg.fit(X_scaled_train, y_train)\n",
    "tree.fit(X_train, y_train)"
   ]
  },
  {
   "cell_type": "code",
   "execution_count": 21,
   "metadata": {
    "colab": {
     "base_uri": "https://localhost:8080/"
    },
    "id": "FaD2ZghJeq9k",
    "outputId": "1a0287dc-4c8b-44bf-d199-fb77804318ee"
   },
   "outputs": [
    {
     "name": "stdout",
     "output_type": "stream",
     "text": [
      "(Logistic Regression) Training Accuracy: 88.24 %\n",
      "(Random Forest Classifier) Training Accuracy: 100.00 %\n"
     ]
    }
   ],
   "source": [
    "y_train_pred_log_reg = log_reg.predict(X_scaled_train)\n",
    "y_train_pred_tree = tree.predict(X_train)\n",
    "\n",
    "print(\"(Logistic Regression) Training Accuracy: %.2f %%\" % (accuracy_score(y_train, y_train_pred_log_reg) * 100))\n",
    "print(\"(Random Forest Classifier) Training Accuracy: %.2f %%\" % (accuracy_score(y_train, y_train_pred_tree) * 100))"
   ]
  },
  {
   "cell_type": "markdown",
   "metadata": {
    "id": "qUp_DkX1ecsv"
   },
   "source": [
    "## **Step 4 - Performance Evaluation**"
   ]
  },
  {
   "cell_type": "code",
   "execution_count": 22,
   "metadata": {
    "colab": {
     "base_uri": "https://localhost:8080/"
    },
    "id": "Rm1IeMyCFvHg",
    "outputId": "852903d8-9d57-43e6-ae98-d5b7422e2910"
   },
   "outputs": [
    {
     "name": "stdout",
     "output_type": "stream",
     "text": [
      "(Logistic Regression) Testing Accuracy: 72.73 %\n",
      "(Random Forest Classifier) Testing Accuracy: 86.36 %\n"
     ]
    }
   ],
   "source": [
    "y_test_pred_log_reg = log_reg.predict(X_scaled_test)\n",
    "y_test_pred_tree = tree.predict(X_test)\n",
    "\n",
    "print(\"(Logistic Regression) Testing Accuracy: %.2f %%\" % (accuracy_score(y_test, y_test_pred_log_reg) * 100))\n",
    "print(\"(Random Forest Classifier) Testing Accuracy: %.2f %%\" % (accuracy_score(y_test, y_test_pred_tree) * 100))"
   ]
  },
  {
   "cell_type": "code",
   "execution_count": 23,
   "metadata": {
    "colab": {
     "base_uri": "https://localhost:8080/"
    },
    "id": "ylc_P7EJUFmJ",
    "outputId": "8ab7ad9e-fb18-4040-e95c-29883f0760ab"
   },
   "outputs": [
    {
     "name": "stdout",
     "output_type": "stream",
     "text": [
      "(Logistic Regression) Training Accuracy: 100.00 %\n",
      "(Logistic Regression) Testing Accuracy: 86.36 %\n"
     ]
    }
   ],
   "source": [
    "# Reducing the regularization parameter of Logistic Regression\n",
    "\n",
    "log_reg = LogisticRegression(random_state=seed, C=400, max_iter=1000, n_jobs=-1)\n",
    "log_reg.fit(X_scaled_train, y_train)\n",
    "y_train_pred_log_reg = log_reg.predict(X_scaled_train)\n",
    "y_test_pred_log_reg = log_reg.predict(X_scaled_test)\n",
    "\n",
    "print(\"(Logistic Regression) Training Accuracy: %.2f %%\" % (accuracy_score(y_train, y_train_pred_log_reg) * 100))\n",
    "print(\"(Logistic Regression) Testing Accuracy: %.2f %%\" % (accuracy_score(y_test, y_test_pred_log_reg) * 100))"
   ]
  },
  {
   "cell_type": "code",
   "execution_count": 24,
   "metadata": {
    "colab": {
     "base_uri": "https://localhost:8080/"
    },
    "id": "XYfsQVGtVLiA",
    "outputId": "b20f6e4b-8bad-4b5b-887c-5b7e3eb81036"
   },
   "outputs": [
    {
     "name": "stdout",
     "output_type": "stream",
     "text": [
      "(Random Forest Classifier) Training Accuracy: 100.00 %\n",
      "(Random Forest Classifier) Testing Accuracy: 90.91 %\n"
     ]
    }
   ],
   "source": [
    "# Changing the depth and number of estimators parameters in Random Forest Classifier\n",
    "\n",
    "tree = RandomForestClassifier(random_state=seed, max_depth=10, max_features=2, n_jobs=-1)\n",
    "tree.fit(X_train, y_train)\n",
    "y_train_pred_tree = tree.predict(X_train)\n",
    "y_test_pred_tree = tree.predict(X_test)\n",
    "\n",
    "print(\"(Random Forest Classifier) Training Accuracy: %.2f %%\" % (accuracy_score(y_train, y_train_pred_tree) * 100))\n",
    "print(\"(Random Forest Classifier) Testing Accuracy: %.2f %%\" % (accuracy_score(y_test, y_test_pred_tree) * 100))"
   ]
  },
  {
   "cell_type": "code",
   "execution_count": 25,
   "metadata": {
    "colab": {
     "base_uri": "https://localhost:8080/",
     "height": 465
    },
    "id": "JqJ4kSE_wCIn",
    "outputId": "0347196b-97b8-446f-b1c7-140650351c3a"
   },
   "outputs": [
    {
     "data": {
      "image/png": "[encoded data removed]",
      "text/plain": [
       "<Figure size 1440x504 with 4 Axes>"
      ]
     },
     "metadata": {
      "needs_background": "light"
     },
     "output_type": "display_data"
    }
   ],
   "source": [
    "# Plotting the confusion matrix for the Testing Dataset (Logistic Regression)\n",
    "\n",
    "fig, ax = plt.subplots(1, 2, figsize=(20, 7))\n",
    "ax[0].set_title('Confusion matrix for Logistic Regression on Testing Dataset', fontsize=15)\n",
    "sns.heatmap(confusion_matrix(y_test, y_test_pred_log_reg), annot=True, ax=ax[0], cmap='Greens')\n",
    "ax[0].set_xlabel('Predicted Grade', fontsize=15)\n",
    "ax[0].set_ylabel('True Grade', fontsize=15);\n",
    "\n",
    "ax[1].set_title('Confusion matrix for Random Forest Classifier on Testing Dataset', fontsize=15)\n",
    "sns.heatmap(confusion_matrix(y_test, y_test_pred_tree), annot=True, ax=ax[1], cmap='Blues')\n",
    "ax[1].set_xlabel('Predicted Grade', fontsize=15)\n",
    "ax[1].set_ylabel('True Grade', fontsize=15);"
   ]
  },
  {
   "cell_type": "markdown",
   "metadata": {
    "id": "aDVQJ6t75y-7"
   },
   "source": [
    "## **Step 5 - Important Features**"
   ]
  },
  {
   "cell_type": "code",
   "execution_count": 26,
   "metadata": {
    "colab": {
     "base_uri": "https://localhost:8080/",
     "height": 632
    },
    "id": "82RjG05Z6CUX",
    "outputId": "9322a22c-c2f0-434e-b9da-ddf683ab144d"
   },
   "outputs": [
    {
     "data": {
      "image/png": "[encoded data removed]",
      "text/plain": [
       "<Figure size 1080x720 with 1 Axes>"
      ]
     },
     "metadata": {
      "needs_background": "light"
     },
     "output_type": "display_data"
    }
   ],
   "source": [
    "# Plotting feature importances from the Random Forest Classifier\n",
    "\n",
    "fig, ax = plt.subplots(figsize=(15, 10))\n",
    "plt.title('Feature Importances based on Random Forest Classifier', fontsize=20)\n",
    "sns.barplot(x=features, y=tree.feature_importances_, ax=ax)\n",
    "plt.xlabel('Feature', fontsize=15)\n",
    "plt.ylabel('Feature Importance', fontsize=15);"
   ]
  }
 ],
 "metadata": {
  "colab": {
   "collapsed_sections": [],
   "name": "Data_Science_Mini_Project_2.ipynb",
   "provenance": []
  },
  "kernelspec": {
   "display_name": "Python 3",
   "language": "python",
   "name": "python3"
  },
  "language_info": {
   "codemirror_mode": {
    "name": "ipython",
    "version": 3
   },
   "file_extension": ".py",
   "mimetype": "text/x-python",
   "name": "python",
   "nbconvert_exporter": "python",
   "pygments_lexer": "ipython3",
   "version": "3.6.9"
  }
 },
 "nbformat": 4,
 "nbformat_minor": 1
}
